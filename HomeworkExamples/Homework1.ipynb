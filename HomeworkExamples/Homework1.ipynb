{
 "cells": [
  {
   "cell_type": "markdown",
   "metadata": {},
   "source": [
    "## Weather forecast\n",
    "\n",
    "### **Problem Statement**\n",
    "\n",
    "Create a program that allows the user to enter their current temperature in Fahrenheit and find\n",
    "out whether it is warm, hot, or cold based on the following conditions:\n",
    "\n",
    "- If the temperature is above 85°F, it is considered hot.\n",
    "- If the temperature is between 60°F and 85°F, it is considered warm.\n",
    "- If the temperature is below 60°F, it is considered cold.\n",
    "\n",
    "### **Deliverables**\n",
    "\n",
    "Write a Python program that asks the user for their current temperature in Fahrenheit and\n",
    "outputs whether it is warm, hot, or cold.\n",
    "\n",
    "### **Requirements**\n",
    "\n",
    "- Use the following reserved words in your code: `if`, `elif`, `else`\n",
    "- Use proper indentation to denote blocks of code.\n",
    "- Use variables to store the input temperature and the result.\n",
    "- Include comments in your code to explain what the code is doing.\n",
    "- Use data types to store the temperature (e.g. float or int).\n",
    "- Use operators to compare the temperature against the thresholds.\n",
    "- Use boolean expressions to determine the output result.\n",
    "- Use an if-elif-else statement to implement the conditions.\n",
    "\n",
    "### **Submission Instructions:**\n",
    "\n",
    "Complete your program using a Jupyter Notebook. Once you are comfortable that your program is functioning correctly, submit your notebook file (*.ipynb) to Canvas to submit your homework assignment."
   ]
  },
  {
   "cell_type": "code",
   "execution_count": null,
   "metadata": {},
   "outputs": [],
   "source": [
    "# Weather Forecast\n",
    "\n",
    "# Get the current temperature in Fahrenheit from the user\n",
    "temp_fahrenheit = float(input(\"Enter your current temperature in Fahrenheit: \"))\n",
    "\n",
    "# Initialize a variable to store the result\n",
    "result = \"\"\n",
    "\n",
    "# Check the temperature and set the result\n",
    "if temp_fahrenheit >= 85:\n",
    "    result = \"hot\"\n",
    "elif temp_fahrenheit >= 60 and temp_fahrenheit < 85:\n",
    "    result = \"warm\"\n",
    "else:\n",
    "    result = \"cold\"\n",
    "\n",
    "# Print the result\n",
    "print(f\"It is {result} outside.\")"
   ]
  }
 ],
 "metadata": {
  "language_info": {
   "name": "python"
  }
 },
 "nbformat": 4,
 "nbformat_minor": 2
}
