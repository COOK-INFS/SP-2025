{
 "cells": [
  {
   "cell_type": "markdown",
   "metadata": {},
   "source": [
    "# Pandas Series\n",
    "In the Pandas library, a Data Series (often just called a \"series\") is one of the fundamental data structures. It is essentially a one-dimensional array-like object that can hold any data type (integers, strings, floats, Python objects, etc.), and it is often used to represent a column in a dataset. Each item in a series has a unique index, which provides a way to access the elements. The index in Pandas is more flexible than in traditional arrays, as it allows for non-numeric labels.  \n",
    "Here are some key points about Pandas Series:\n",
    " \n",
    "1. **Flexible Indexing**: The index in a Pandas Series does not need to be numeric; it can consist of strings, datetime objects, or even tuples. This flexibility allows for more meaningful and convenient data manipulation and access. \n",
    "2. **Data Alignment**: When performing operations between two Series, Pandas automatically aligns data based on the index labels. This feature is very useful for working with data from different sources that may not be in the same order. \n",
    "3. **Handling Missing Data**: Pandas Series can easily handle missing or NaN (Not a Number) values, providing a robust way to work with incomplete datasets. \n",
    "4. **Vectorized Operations**: Operations on Pandas Series are vectorized, meaning that you can apply functions and operations on the series without needing to loop through its elements explicitly. This leads to concise and efficient code. \n",
    "5. **Heterogeneous Data**: A single Series can contain elements of different data types, although it's more common and efficient to have data of the same type. \n",
    "6. **Integration with Pandas DataFrame**: A DataFrame in Pandas is essentially a 2-dimensional labeled data structure with columns of potentially different types. You can think of it as a spreadsheet or SQL table. Each column in a DataFrame is a Series.    "
   ]
  },
  {
   "cell_type": "code",
   "execution_count": null,
   "metadata": {
    "vscode": {
     "languageId": "plaintext"
    }
   },
   "outputs": [],
   "source": []
  },
  {
   "cell_type": "markdown",
   "metadata": {},
   "source": [
    "# Pandas DataFrame\n",
    "A DataFrame in Pandas is a two-dimensional, size-mutable, and potentially heterogeneous tabular data structure with labeled axes (rows and columns). It is one of the most commonly used Pandas objects, especially for data manipulation and analysis. Think of it as a spreadsheet or SQL table, where each column is a Pandas Series.\n",
    " \n",
    "Here are some key features and characteristics of DataFrames:\n",
    " \n",
    "1. **Labeled Axes**: Both the rows and columns in a DataFrame are labeled. Columns are typically labeled with column names, while rows are labeled with an index. This makes for easy access and manipulation of data based on row and column labels. \n",
    "2. **Different Data Types**: Each column in a DataFrame can hold a different data type (e.g., integer, float, string, Python objects, etc.). This is similar to a SQL table or an Excel spreadsheet, where each column can have data of a different type. \n",
    "3. **Size Mutable**: DataFrames are size mutable, meaning you can add or delete columns from a DataFrame, and the size of the DataFrame will automatically adjust. \n",
    "4. **Flexible Data Manipulation**: Pandas provides a vast array of functions for manipulating, transforming, and aggregating data in DataFrames. Operations such as filtering data based on conditions, grouping data, merging multiple DataFrames, handling missing data, and pivot tables are straightforward. \n",
    "5. **Integrated Time Series Functionality**: Pandas has built-in support for handling time series data, making it very convenient to work with time-stamped data. Operations like date range generation, frequency conversion, moving window statistics, and date shifting are seamlessly integrated. \n",
    "6. **Efficient Data Storage and Computation**: DataFrames are built on top of the NumPy library, which means they benefit from the fast array-processing capabilities of NumPy. Operations on DataFrames are highly optimized for performance. \n",
    "7. **Flexible Indexing and Subsetting**: DataFrames support a range of methods to subset and index data, allowing for complex data selection and manipulation. You can select data by label, by position, by condition (boolean indexing), or a combination of these."
   ]
  },
  {
   "cell_type": "code",
   "execution_count": null,
   "metadata": {
    "vscode": {
     "languageId": "plaintext"
    }
   },
   "outputs": [],
   "source": []
  },
  {
   "cell_type": "markdown",
   "metadata": {},
   "source": [
    "# Working with Data\n",
    "When loading external data into a DataFrame using Pandas, there are several important factors to consider to ensure the data is loaded correctly and efficiently. Pandas provides functions like read_csv(), read_excel(), read_json(), and others for loading data from various file formats.\n",
    "Other examples can be found in the Pandas documentation: [https://pandas.pydata.org/docs/user_guide/io.html](https://pandas.pydata.org/docs/user_guide/io.html)"
   ]
  },
  {
   "cell_type": "markdown",
   "metadata": {},
   "source": []
  },
  {
   "cell_type": "markdown",
   "metadata": {
    "vscode": {
     "languageId": "plaintext"
    }
   },
   "source": [
    "# .loc function\n",
    "The .loc function in Pandas is a powerful and versatile method used for selecting data from a DataFrame. It allows for indexing and slicing based on labels rather than integer positions. The .loc method provides a way to access a group of rows and columns by labels or a boolean array. It is particularly useful when the indices or column names of a DataFrame are explicitly defined and you want to perform selection operations based on these labels.\n",
    " \n",
    "Here are some key points about the .loc method:\n",
    "\n",
    "1. **Label-based Selection**: .loc is primarily label based, which means that you use the actual index or column labels to select data. If the index of your DataFrame is a simple range index (0, 1, 2, ...), using .loc with these integers will still work because they are also considered labels in this context.\n",
    "2. **Slicing**: .loc supports slicing to select a range of data. Unlike normal Python slicing, both the start and the end of the slice are inclusive when using .loc. For example, df.loc[0:5] will include both the rows labeled 0 and 5.\n",
    "3. **Boolean Indexing**: .loc can also be used with a boolean array to select rows that meet certain conditions. This is particularly useful for filtering data based on some criteria.\n",
    "4. **Selecting Rows and Columns**: With .loc, you can select both rows and columns in one operation. It accepts a two-dimensional slicing, where the first part specifies the rows and the second part specifies the columns to be selected.\n",
    "5. **Setting Values**: Beyond just selecting data, .loc can also be used to set values in specific rows and columns based on labels."
   ]
  },
  {
   "cell_type": "code",
   "execution_count": null,
   "metadata": {
    "vscode": {
     "languageId": "plaintext"
    }
   },
   "outputs": [],
   "source": []
  },
  {
   "cell_type": "markdown",
   "metadata": {},
   "source": [
    "# .iloc function\n",
    "The .iloc function in Pandas is a fundamental data selection method used for indexing and selecting data by integer position. Unlike the .loc method, which operates on labels, .iloc allows users to select data based on its numerical position in the DataFrame or Series. This method is particularly useful when the index labels of a DataFrame are not integers, or when you want to select data based on its position regardless of the index labels.\n",
    " \n",
    "Here are some key aspects of the .iloc method:\n",
    "\n",
    "1. **Integer-based Selection**: .iloc uses integer-based indexing, meaning you select data by its integer location from 0 to the length-1 of the axis. It's similar to how indexing works in Python lists.\n",
    "2. **Slicing**: Like Python's standard slicing, .iloc supports slicing to select a range of data. The syntax is start:stop:step, where the start index is inclusive and the stop index is exclusive, just like standard Python list slicing.\n",
    "3. **Select Rows and Columns**: With .iloc, you can select both rows and columns using integers. It accepts a two-dimensional slicing where the first dimension selects rows and the second dimension selects columns.\n",
    "4. **Negative Indexing**: .iloc supports negative indexing, similar to Python lists, where negative numbers select positions from the end of the DataFrame or Series.\n",
    "5. **Fancy Indexing**: .iloc supports an array-like index to select specific rows or columns. This means you can pass a list or array of integers to select non-adjacent rows or columns.\n",
    "6. **Setting Values**: Beyond selection, .iloc can also be used to set values in the DataFrame or Series for specified positions."
   ]
  },
  {
   "cell_type": "code",
   "execution_count": null,
   "metadata": {
    "vscode": {
     "languageId": "plaintext"
    }
   },
   "outputs": [],
   "source": []
  },
  {
   "cell_type": "markdown",
   "metadata": {},
   "source": [
    "# Titanic Analysis\n"
   ]
  },
  {
   "cell_type": "code",
   "execution_count": null,
   "metadata": {
    "vscode": {
     "languageId": "plaintext"
    }
   },
   "outputs": [],
   "source": []
  }
 ],
 "metadata": {
  "language_info": {
   "name": "python"
  }
 },
 "nbformat": 4,
 "nbformat_minor": 2
}
