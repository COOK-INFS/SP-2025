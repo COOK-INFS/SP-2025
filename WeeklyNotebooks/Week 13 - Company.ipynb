{
 "cells": [
  {
   "cell_type": "markdown",
   "id": "986d0ac4",
   "metadata": {},
   "source": [
    "# Option 1 - Connecting as we have so far."
   ]
  },
  {
   "cell_type": "code",
   "execution_count": 2,
   "id": "0ebe27c3",
   "metadata": {},
   "outputs": [
    {
     "name": "stderr",
     "output_type": "stream",
     "text": [
      "C:\\Users\\rcook2\\AppData\\Local\\Temp\\2\\ipykernel_13860\\702155059.py:6: UserWarning: pandas only supports SQLAlchemy connectable (engine/connection) or database string URI or sqlite3 DBAPI2 connection. Other DBAPI2 objects are not tested. Please consider using SQLAlchemy.\n",
      "  df = pd.read_sql(\"select * from sales;\", conn)\n"
     ]
    },
    {
     "name": "stdout",
     "output_type": "stream",
     "text": [
      "            PK  Store  Dept   SalesDate  Weekly_Sales  IsHoliday\n",
      "0            1    1.0   1.0  2019-02-05    25173.7450          0\n",
      "1            2    1.0   1.0  2019-02-12    46499.8849          1\n",
      "2            3    1.0   1.0  2019-02-19    42011.5055          0\n",
      "3            4    1.0   1.0  2019-02-26    19597.5754          0\n",
      "4            5    1.0   1.0  2019-03-05    22046.1790          0\n",
      "...        ...    ...   ...         ...           ...        ...\n",
      "372797  372798   46.0  95.0  2021-06-30        0.0000          0\n",
      "372798  372799   46.0  96.0  2021-06-30        0.0000          0\n",
      "372799  372800   46.0  97.0  2021-06-30        0.0000          0\n",
      "372800  372801   46.0  98.0  2021-06-30        0.0000          0\n",
      "372801  372802   46.0  99.0  2021-06-30        0.0000          0\n",
      "\n",
      "[372802 rows x 6 columns]\n"
     ]
    }
   ],
   "source": [
    "from companyConnect import create_conn\n",
    "import pandas as pd\n",
    "\n",
    "conn = create_conn()\n",
    "\n",
    "df = pd.read_sql(\"select * from sales;\", conn)\n",
    "\n",
    "print(df)"
   ]
  },
  {
   "cell_type": "markdown",
   "id": "b878ddce",
   "metadata": {},
   "source": [
    "# Option 2, using sqlAlchemy"
   ]
  },
  {
   "cell_type": "code",
   "execution_count": 1,
   "id": "9fbbd716",
   "metadata": {},
   "outputs": [
    {
     "name": "stdout",
     "output_type": "stream",
     "text": [
      "            PK  Store  Dept   SalesDate  Weekly_Sales  IsHoliday\n",
      "0            1    1.0   1.0  2019-02-05    25173.7450          0\n",
      "1            2    1.0   1.0  2019-02-12    46499.8849          1\n",
      "2            3    1.0   1.0  2019-02-19    42011.5055          0\n",
      "3            4    1.0   1.0  2019-02-26    19597.5754          0\n",
      "4            5    1.0   1.0  2019-03-05    22046.1790          0\n",
      "...        ...    ...   ...         ...           ...        ...\n",
      "372797  372798   46.0  95.0  2021-06-30        0.0000          0\n",
      "372798  372799   46.0  96.0  2021-06-30        0.0000          0\n",
      "372799  372800   46.0  97.0  2021-06-30        0.0000          0\n",
      "372800  372801   46.0  98.0  2021-06-30        0.0000          0\n",
      "372801  372802   46.0  99.0  2021-06-30        0.0000          0\n",
      "\n",
      "[372802 rows x 6 columns]\n"
     ]
    }
   ],
   "source": [
    "# Ensure it's installed with \n",
    "# conda install -c anaconda sqlalchemy\n",
    "# pip3 install sqlalchemy\n",
    "\n",
    "from companyConnect2 import create_conn_params\n",
    "import pandas as pd\n",
    "from sqlalchemy import create_engine, text\n",
    "\n",
    "params = create_conn_params()\n",
    "\n",
    "# Construct the SQLAlchemy connection URL (URI)\n",
    "engine = create_engine(\"mysql+mysqlconnector://{user}:{password}@{host}/{database}\".format(**params))\n",
    "\n",
    "df = pd.read_sql(\"select * from sales;\", engine)\n",
    "\n",
    "print(df)\n"
   ]
  }
 ],
 "metadata": {
  "kernelspec": {
   "display_name": "base",
   "language": "python",
   "name": "python3"
  },
  "language_info": {
   "codemirror_mode": {
    "name": "ipython",
    "version": 3
   },
   "file_extension": ".py",
   "mimetype": "text/x-python",
   "name": "python",
   "nbconvert_exporter": "python",
   "pygments_lexer": "ipython3",
   "version": "3.12.3"
  }
 },
 "nbformat": 4,
 "nbformat_minor": 5
}
