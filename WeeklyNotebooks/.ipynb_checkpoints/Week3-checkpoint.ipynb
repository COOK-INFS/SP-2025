{
 "cells": [
  {
   "cell_type": "markdown",
   "metadata": {},
   "source": [
    "# User Input\n",
    "\n",
    "Remember that user input is always a STRING data type."
   ]
  },
  {
   "cell_type": "code",
   "execution_count": 4,
   "metadata": {},
   "outputs": [
    {
     "name": "stdout",
     "output_type": "stream",
     "text": [
      "Hello Bob\n",
      "You are 56 years old.\n"
     ]
    }
   ],
   "source": [
    "userName = input(\"What is your name? \")\n",
    "userAge = int(input(\"What year were you born? \"))\n",
    "\n",
    "age = 2025-userAge\n",
    "\n",
    "print(\"Hello \" + userName)\n",
    "print(\"You are \" +str(age)+ \" years old.\")"
   ]
  },
  {
   "cell_type": "markdown",
   "metadata": {},
   "source": [
    "# Basic IF statements"
   ]
  },
  {
   "cell_type": "code",
   "execution_count": 7,
   "metadata": {},
   "outputs": [
    {
     "name": "stdout",
     "output_type": "stream",
     "text": [
      "Hello Bob\n",
      "You are 20 years old.\n"
     ]
    }
   ],
   "source": [
    "userName = input(\"What is your name? \")\n",
    "userAge = int(input(\"What year were you born? \"))\n",
    "\n",
    "age = 2025-userAge\n",
    "\n",
    "print(\"Hello \" + userName)\n",
    "print(\"You are \" +str(age)+ \" years old.\")\n",
    "\n",
    "\n",
    "# IF statement example\n",
    "if age >=21:\n",
    "    print(\"Welcome to the bar, enjoy your cold snack!\")\n",
    "\n",
    "    "
   ]
  },
  {
   "cell_type": "markdown",
   "metadata": {},
   "source": [
    "# Two-way IF statement (IF-ELSE)"
   ]
  },
  {
   "cell_type": "code",
   "execution_count": 9,
   "metadata": {},
   "outputs": [
    {
     "name": "stdout",
     "output_type": "stream",
     "text": [
      "Hello Bob\n",
      "You are 20 years old.\n",
      "Sorry, no cold snack for you!\n"
     ]
    }
   ],
   "source": [
    "userName = input(\"What is your name? \")\n",
    "userAge = int(input(\"What year were you born? \"))\n",
    "\n",
    "age = 2025-userAge\n",
    "\n",
    "print(\"Hello \" + userName)\n",
    "print(\"You are \" +str(age)+ \" years old.\")\n",
    "\n",
    "# Two-way IF statement\n",
    "if age >= 21:\n",
    "    print('Welcome to the bar, enjoy your cold snack!')\n",
    "else:\n",
    "    print(\"Sorry, no cold snack for you!\")"
   ]
  },
  {
   "cell_type": "markdown",
   "metadata": {},
   "source": [
    "# Ternary expressions (Like an IF)"
   ]
  },
  {
   "cell_type": "code",
   "execution_count": 11,
   "metadata": {},
   "outputs": [
    {
     "name": "stdout",
     "output_type": "stream",
     "text": [
      "Hello Bob\n",
      "You are 20 years old.\n",
      "You cannot enter the bar.\n"
     ]
    }
   ],
   "source": [
    "userName = input(\"What is your name? \")\n",
    "userAge = int(input(\"What year were you born? \"))\n",
    "\n",
    "age = 2025-userAge\n",
    "\n",
    "print(\"Hello \" + userName)\n",
    "print(\"You are \" +str(age)+ \" years old.\")\n",
    "\n",
    "# Ternary expression example\n",
    "canEnter = \"You can enter the bar\" if age >= 21 else \"You cannot enter the bar.\"\n",
    "print(canEnter)"
   ]
  },
  {
   "cell_type": "markdown",
   "metadata": {},
   "source": [
    "# Nested IF statements"
   ]
  },
  {
   "cell_type": "code",
   "execution_count": 14,
   "metadata": {},
   "outputs": [
    {
     "name": "stdout",
     "output_type": "stream",
     "text": [
      "Hello Bob\n",
      "You are 15 years old.\n",
      "You are not eligible for enlistment.\n"
     ]
    }
   ],
   "source": [
    "userName = input(\"What is your name? \")\n",
    "userAge = int(input(\"What year were you born? \"))\n",
    "\n",
    "age = 2025-userAge\n",
    "\n",
    "print(\"Hello \" + userName)\n",
    "print(\"You are \" +str(age)+ \" years old.\")\n",
    "\n",
    "\n",
    "# Nested IF statements\n",
    "\n",
    "if age >= 18:\n",
    "    if age < 25:\n",
    "        print(\"You can enlist in the service.\")\n",
    "    else:\n",
    "        print(\"You are too old to enlist\")\n",
    "else:\n",
    "    print(\"You are not eligible for enlistment.\")"
   ]
  },
  {
   "cell_type": "markdown",
   "metadata": {},
   "source": [
    "# ELIF statements"
   ]
  },
  {
   "cell_type": "code",
   "execution_count": 22,
   "metadata": {},
   "outputs": [
    {
     "name": "stdout",
     "output_type": "stream",
     "text": [
      "Hello Bob\n",
      "You are 45 years old.\n",
      "You may be eligible for a insurance discount.\n"
     ]
    }
   ],
   "source": [
    "userName = input(\"What is your name? \")\n",
    "userAge = int(input(\"What year were you born? \"))\n",
    "\n",
    "age = 2025-userAge\n",
    "\n",
    "print(\"Hello \" + userName)\n",
    "print(\"You are \" +str(age)+ \" years old.\")\n",
    "\n",
    "\n",
    "# IF-ELIF-ELSE statements\n",
    "\n",
    "if age < 16:\n",
    "    print(\"You are too young to drive!\")\n",
    "elif age >= 16 and age < 18:\n",
    "    print (\"You are eligible for a learner's permit.\")\n",
    "elif age > 25 and age <=50:\n",
    "    print (\"You may be eligible for a insurance discount.\")\n",
    "else:\n",
    "    print (\"You are eligible for a driver's license\")"
   ]
  },
  {
   "cell_type": "markdown",
   "metadata": {},
   "source": [
    "# Match-Case or \"Switch\" statements"
   ]
  },
  {
   "cell_type": "code",
   "execution_count": 24,
   "metadata": {},
   "outputs": [
    {
     "name": "stdout",
     "output_type": "stream",
     "text": [
      "Friday\n"
     ]
    }
   ],
   "source": [
    "dayToView = int(input(\"What day number (0 to 6) would you like to show?\"))\n",
    "\n",
    "day = dayToView\n",
    "day_of_week = \"\"\n",
    "\n",
    "\n",
    "if day == 0:\n",
    "    day_of_week = \"Sunday\"\n",
    "elif day == 1:\n",
    "    day_of_week = \"Monday\"\n",
    "elif day == 2:\n",
    "    day_of_week = \"Tuesday\"\n",
    "elif day == 3:\n",
    "    day_of_week = \"Wednesday\"\n",
    "elif day == 4:\n",
    "    day_of_week = \"Thursday\"\n",
    "elif day == 5:\n",
    "    day_of_week = \"Friday\"\n",
    "elif day == 6:\n",
    "    day_of_week = \"Saturday\"\n",
    "else:\n",
    "    day_of_week = \"Invalid Day\"\n",
    "\n",
    "print(day_of_week)"
   ]
  },
  {
   "cell_type": "code",
   "execution_count": 26,
   "metadata": {},
   "outputs": [
    {
     "name": "stdout",
     "output_type": "stream",
     "text": [
      "Invalid Day\n"
     ]
    }
   ],
   "source": [
    "dayToView = int(input(\"What day number (0 to 6) would you like to show?\"))\n",
    "\n",
    "day = dayToView\n",
    "day_of_week = \"\"\n",
    "\n",
    "# Shorter method for match-case statements\n",
    "\n",
    "case = {\n",
    "    0: \"Sunday\",\n",
    "    1: \"Monday\",\n",
    "    2: \"Tuesday\",\n",
    "    3: \"Wednesday\",\n",
    "    4: \"Thursday\",\n",
    "    5: \"Friday\",\n",
    "    6: \"Saturday\"\n",
    "}\n",
    "\n",
    "day_of_week = case.get(day, \"Invalid Day\")\n",
    "print(day_of_week)"
   ]
  },
  {
   "cell_type": "markdown",
   "metadata": {},
   "source": [
    "# ATM Simulator"
   ]
  },
  {
   "cell_type": "code",
   "execution_count": 4,
   "metadata": {},
   "outputs": [
    {
     "name": "stdout",
     "output_type": "stream",
     "text": [
      "Welcome to the ATM simulator\n",
      "1. Check Balance\n",
      "2. Withdraw\n",
      "3. Deposit\n",
      "4. Exit\n",
      "Thank you for using our ATM! Good Bye!\n"
     ]
    }
   ],
   "source": [
    "# Initialize an account balance\n",
    "balance = 1000\n",
    "\n",
    "while True:\n",
    "    print(\"Welcome to the ATM simulator\")\n",
    "    print(\"1. Check Balance\")\n",
    "    print(\"2. Withdraw\")\n",
    "    print(\"3. Deposit\")\n",
    "    print(\"4. Exit\")\n",
    "\n",
    "    choice = int(input(\"Enter your choice: \"))\n",
    "\n",
    "    if choice == 1:\n",
    "        print(\"Your current balance is $\" +str(balance))\n",
    "    elif choice == 2:\n",
    "        amount = int(input(\"Enter amount to withdraw\"))\n",
    "        if amount > balance:\n",
    "            print(\"Insufficient funds!\")\n",
    "        elif amount <=0:\n",
    "            print(\"Invalid amount!\")\n",
    "        else:\n",
    "            balance -= amount\n",
    "            print(\"$\" + str(amount) + \" withdrawn successfully!\")\n",
    "            print(\"Your remaining balance is $\" + str(balance))\n",
    "    elif choice == 3:\n",
    "        amount = int(input(\"Enter the amount to deposit\"))\n",
    "        if amount <= 0:\n",
    "            print(\"Invalid amount\")\n",
    "        else:\n",
    "            balance += amount\n",
    "            print(\"$\" + str(amount) + \" deposited successfully!\")\n",
    "            print(\"Your remaining balance is $\" + str(balance))\n",
    "    elif choice == 4:\n",
    "        print(\"Thank you for using our ATM! Good Bye!\")\n",
    "        break\n",
    "    else:\n",
    "        print(\"Invalid choice. Please try again.\")"
   ]
  }
 ],
 "metadata": {
  "kernelspec": {
   "display_name": "base",
   "language": "python",
   "name": "python3"
  },
  "language_info": {
   "codemirror_mode": {
    "name": "ipython",
    "version": 3
   },
   "file_extension": ".py",
   "mimetype": "text/x-python",
   "name": "python",
   "nbconvert_exporter": "python",
   "pygments_lexer": "ipython3",
   "version": "3.12.3"
  }
 },
 "nbformat": 4,
 "nbformat_minor": 2
}
