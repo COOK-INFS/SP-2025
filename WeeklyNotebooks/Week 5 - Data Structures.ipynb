{
 "cells": [
  {
   "cell_type": "markdown",
   "metadata": {},
   "source": [
    "# Lists"
   ]
  },
  {
   "cell_type": "markdown",
   "metadata": {},
   "source": [
    "## Basic Lists"
   ]
  },
  {
   "cell_type": "code",
   "execution_count": 94,
   "metadata": {},
   "outputs": [
    {
     "name": "stdout",
     "output_type": "stream",
     "text": [
      "['Jeep', 'F350', 'Ram']\n"
     ]
    }
   ],
   "source": [
    "cars = ['Jeep', 'F350', 'Ram']\n",
    "\n",
    "print(cars)"
   ]
  },
  {
   "cell_type": "code",
   "execution_count": 95,
   "metadata": {},
   "outputs": [
    {
     "name": "stdout",
     "output_type": "stream",
     "text": [
      "F350\n"
     ]
    }
   ],
   "source": [
    "# Accessing specific elements within a list.\n",
    "\n",
    "cars = ['Jeep', 'F350', 'Ram']\n",
    "\n",
    "print(cars[1])"
   ]
  },
  {
   "cell_type": "code",
   "execution_count": 96,
   "metadata": {},
   "outputs": [
    {
     "name": "stdout",
     "output_type": "stream",
     "text": [
      "['Jeep', 'F350', 'Ram']\n"
     ]
    }
   ],
   "source": [
    "# Accessing a range of elements within a list.\n",
    "\n",
    "cars = ['Jeep', 'F350', 'Ram', 'S-10', 'Durango']\n",
    "\n",
    "print(cars[0:3])"
   ]
  },
  {
   "cell_type": "code",
   "execution_count": 97,
   "metadata": {},
   "outputs": [
    {
     "name": "stdout",
     "output_type": "stream",
     "text": [
      "['Jeep', 'Buell', 'Ram', 'S-10', 'Durango']\n"
     ]
    }
   ],
   "source": [
    "# Updating values in a list.\n",
    "\n",
    "cars = ['Jeep', 'F350', 'Ram', 'S-10', 'Durango']\n",
    "\n",
    "cars[1] = 'Buell'\n",
    "\n",
    "print(cars)"
   ]
  },
  {
   "cell_type": "markdown",
   "metadata": {},
   "source": [
    "## List Operations"
   ]
  },
  {
   "cell_type": "code",
   "execution_count": 98,
   "metadata": {},
   "outputs": [
    {
     "name": "stdout",
     "output_type": "stream",
     "text": [
      "I did not find ram in the list of ['Jeep', 'F350', 'Ram', 'S-10', 'Durango']\n"
     ]
    }
   ],
   "source": [
    "cars = ['Jeep', 'F350', 'Ram', 'S-10', 'Durango']\n",
    "\n",
    "lookingFor = 'ram'\n",
    "\n",
    "# Use a loop to search through the list\n",
    "if lookingFor in cars:\n",
    "    print(f\"{lookingFor}, is the the list {cars}\") # f represents a formatted string\n",
    "else:\n",
    "    print(f\"I did not find {lookingFor} in the list of {cars}\")"
   ]
  },
  {
   "cell_type": "code",
   "execution_count": 99,
   "metadata": {},
   "outputs": [
    {
     "name": "stdout",
     "output_type": "stream",
     "text": [
      "Ram, is the the list ['Jeep', 'F350', 'Ram', 'S-10', 'Durango']\n"
     ]
    }
   ],
   "source": [
    "cars = ['Jeep', 'F350', 'Ram', 'S-10', 'Durango']\n",
    "\n",
    "lookingFor = input(\"What are you looking for? \")\n",
    "\n",
    "# Use a loop to search through the list\n",
    "if lookingFor in cars:\n",
    "    print(f\"{lookingFor}, is the the list {cars}\") # f represents a formatted string\n",
    "else:\n",
    "    print(f\"I did not find {lookingFor} in the list of {cars}\")"
   ]
  },
  {
   "cell_type": "code",
   "execution_count": 100,
   "metadata": {},
   "outputs": [
    {
     "name": "stdout",
     "output_type": "stream",
     "text": [
      "Ram is in the list ['Jeep', 'F350', 'Ram', 'S-10', 'Durango'] at index 2\n"
     ]
    }
   ],
   "source": [
    "# Search through a list and ignore case sensitivity\n",
    "\n",
    "cars = ['Jeep', 'F350', 'Ram', 'S-10', 'Durango']\n",
    "\n",
    "lookingFor = input(\"What are you looking for? \")\n",
    "\n",
    "# Convert the input from the user and list items to make the search more effective.\n",
    "\n",
    "lowercaseCars = [car.lower() for car in cars]\n",
    "lowercaseLookingFor = lookingFor.lower()\n",
    "\n",
    "if lowercaseLookingFor in lowercaseCars:\n",
    "    index_location = lowercaseCars.index(lowercaseLookingFor)\n",
    "    print(f\"{lookingFor} is in the list {cars} at index {index_location}\")\n",
    "else:\n",
    "    print(f\"I did not find {lookingFor} in the list {cars}.\")\n"
   ]
  },
  {
   "cell_type": "markdown",
   "metadata": {},
   "source": [
    "## List Methods\n",
    "\n"
   ]
  },
  {
   "cell_type": "code",
   "execution_count": 101,
   "metadata": {},
   "outputs": [
    {
     "name": "stdout",
     "output_type": "stream",
     "text": [
      "s * n = [1, 2, 3, 4, 5, 1, 2, 3, 4, 5, 1, 2, 3, 4, 5]\n",
      "n * s = [1, 2, 3, 4, 5, 1, 2, 3, 4, 5, 1, 2, 3, 4, 5]\n"
     ]
    }
   ],
   "source": [
    "s = [1,2,3,4,5]\n",
    "n = 3\n",
    "\n",
    "results1 = s * n\n",
    "results2 = n * s\n",
    "\n",
    "print(f\"s * n = {results1}\")\n",
    "print(f\"n * s = {results2}\")"
   ]
  },
  {
   "cell_type": "code",
   "execution_count": 102,
   "metadata": {},
   "outputs": [
    {
     "name": "stdout",
     "output_type": "stream",
     "text": [
      "4\n"
     ]
    }
   ],
   "source": [
    "# Return the length of a list\n",
    "s = [1,2,3,4,5]\n",
    "\n",
    "cars = [\"Jeep\", \"F350\", \"Ram\", [1,2,3,4,5]]\n",
    "\n",
    "# Return the list length\n",
    "print(len(cars))"
   ]
  },
  {
   "cell_type": "code",
   "execution_count": 103,
   "metadata": {},
   "outputs": [
    {
     "name": "stdout",
     "output_type": "stream",
     "text": [
      "15\n"
     ]
    }
   ],
   "source": [
    "# Return the length of a list\n",
    "s = [1,2,3,4,5]\n",
    "\n",
    "cars = [\"Jeep\", \"F350\", \"Ram\", [1,2,3,4,5]]\n",
    "\n",
    "print(sum(s))"
   ]
  },
  {
   "cell_type": "code",
   "execution_count": 104,
   "metadata": {},
   "outputs": [
    {
     "name": "stdout",
     "output_type": "stream",
     "text": [
      "['Jeep', 'F350', 'Ram', 'S-10', 'Durango', 'Buell']\n"
     ]
    }
   ],
   "source": [
    "# Appending a list with new data\n",
    "\n",
    "cars = ['Jeep', 'F350', 'Ram', 'S-10', 'Durango']\n",
    "\n",
    "cars.append(\"Buell\")\n",
    "\n",
    "print(cars)"
   ]
  },
  {
   "cell_type": "code",
   "execution_count": 105,
   "metadata": {},
   "outputs": [
    {
     "name": "stdout",
     "output_type": "stream",
     "text": [
      "[1, 2, 3, 4, 5, 6]\n"
     ]
    }
   ],
   "source": [
    "# Extend one list with the values from another.\n",
    "\n",
    "list1 = [1,2,3]\n",
    "list2 = [4,5,6]\n",
    "\n",
    "list1.extend(list2)\n",
    "\n",
    "print(list1)"
   ]
  },
  {
   "cell_type": "code",
   "execution_count": 106,
   "metadata": {},
   "outputs": [
    {
     "name": "stdout",
     "output_type": "stream",
     "text": [
      "['Jeep', 'Buell', 'F350', 'Ram', 'S-10', 'Durango']\n"
     ]
    }
   ],
   "source": [
    "# Append data at a specific index location\n",
    "\n",
    "cars = ['Jeep', 'F350', 'Ram', 'S-10', 'Durango']\n",
    "\n",
    "cars.insert(1, \"Buell\")\n",
    "\n",
    "print(cars)"
   ]
  },
  {
   "cell_type": "code",
   "execution_count": 107,
   "metadata": {},
   "outputs": [
    {
     "name": "stdout",
     "output_type": "stream",
     "text": [
      "[1, 2, 3, 4, 5]\n"
     ]
    }
   ],
   "source": [
    "# Sort the list\n",
    "\n",
    "cars = [1,2,3,4,5]\n",
    "\n",
    "cars.sort()\n",
    "\n",
    "print(cars)"
   ]
  },
  {
   "cell_type": "code",
   "execution_count": 108,
   "metadata": {},
   "outputs": [
    {
     "name": "stdout",
     "output_type": "stream",
     "text": [
      "['Ford', 'Durango', 'Ram']\n"
     ]
    }
   ],
   "source": [
    "# Reverse Sort the list\n",
    "\n",
    "cars = [\"Ram\", \"Durango\", \"Ford\"]\n",
    "\n",
    "cars.reverse()\n",
    "\n",
    "print(cars)"
   ]
  },
  {
   "cell_type": "markdown",
   "metadata": {},
   "source": [
    "## 2D Lists\n"
   ]
  },
  {
   "cell_type": "markdown",
   "metadata": {},
   "source": [
    "2D lists in Python, also known as lists of lists, are a way to create a matrix or a table-like data structure. It's essentially a list where each item in the list is another list. This nested list structure allows for representing data in rows and columns, making it useful for applications like spreadsheets, games, and data processing where multidimensional data storage is needed."
   ]
  },
  {
   "cell_type": "code",
   "execution_count": 109,
   "metadata": {},
   "outputs": [
    {
     "name": "stdout",
     "output_type": "stream",
     "text": [
      "[['Buell', 'GS650', 'K1200GT'], ['S10', 'Ram', 'F350'], ['Rubicon', 'CJ5']]\n"
     ]
    }
   ],
   "source": [
    "matrix =[\n",
    "    ['Buell', 'GS650', 'K1200GT'],\n",
    "    ['S10', 'Ram', 'F350'],\n",
    "    ['Rubicon', 'CJ5']\n",
    "]\n",
    "\n",
    "print(matrix)"
   ]
  },
  {
   "cell_type": "code",
   "execution_count": 110,
   "metadata": {},
   "outputs": [
    {
     "name": "stdout",
     "output_type": "stream",
     "text": [
      "[['Buell', 'GS650', 'K1200GT'], ['S10', 'Ram', 'F350'], ['Rubicon', 'CJ5']]\n"
     ]
    }
   ],
   "source": [
    "matrix =[['Buell', 'GS650', 'K1200GT'],['S10', 'Ram', 'F350'],['Rubicon', 'CJ5']]\n",
    "\n",
    "print(matrix)"
   ]
  },
  {
   "cell_type": "code",
   "execution_count": 111,
   "metadata": {},
   "outputs": [
    {
     "name": "stdout",
     "output_type": "stream",
     "text": [
      "[['Buell', 'GS650', 'K1200GT'], ['S10', 'Ram', 'F350'], ['Rubicon', 'CJ5']]\n"
     ]
    }
   ],
   "source": [
    "motorcycles = ['Buell', 'GS650', 'K1200GT']\n",
    "trucks = ['S10', 'Ram', 'F350']\n",
    "jeeps = ['Rubicon', 'CJ5']\n",
    "\n",
    "# Create a 2D list from other lists\n",
    "vehicles = [motorcycles, trucks, jeeps]\n",
    "\n",
    "print(vehicles)"
   ]
  },
  {
   "cell_type": "code",
   "execution_count": 112,
   "metadata": {},
   "outputs": [
    {
     "name": "stdout",
     "output_type": "stream",
     "text": [
      "Ram\n"
     ]
    }
   ],
   "source": [
    "motorcycles = ['Buell', 'GS650', 'K1200GT'] # This is index 0\n",
    "trucks = ['S10', 'Ram', 'F350'] # This is index 1\n",
    "jeeps = ['Rubicon', 'CJ5'] # This is index 2\n",
    "\n",
    "# Create a 2D list from other lists\n",
    "vehicles = [motorcycles, trucks, jeeps]\n",
    "\n",
    "# Accessing specific elements within a 2D list.\n",
    "\n",
    "print(vehicles[1][1])"
   ]
  },
  {
   "cell_type": "markdown",
   "metadata": {},
   "source": [
    "## 3D Lists\n"
   ]
  },
  {
   "cell_type": "markdown",
   "metadata": {},
   "source": [
    "3D lists in Python, often referred to as lists of lists of lists, extend the concept of 2D lists to add another dimension. This structure can be visualized as a cube or a list containing multiple matrices, which makes it suitable for applications that require managing volumetric data or data that naturally fits into three dimensions, such as 3D graphics, scientific simulations, or complex data processing tasks that involve layers or depth in addition to rows and columns.\n",
    "\n",
    "Think of a modern video game where drawing a pixel requires not only an 'X' and 'Y' coordinate, but also the layer or 'Z' coordinate."
   ]
  },
  {
   "cell_type": "code",
   "execution_count": 113,
   "metadata": {},
   "outputs": [
    {
     "name": "stdout",
     "output_type": "stream",
     "text": [
      "5\n"
     ]
    }
   ],
   "source": [
    "cube = [\n",
    "[\n",
    "    [1,2,3],\n",
    "    [4,5,6]\n",
    "],\n",
    "[\n",
    "    [7,8,9],\n",
    "    [10,11,12]\n",
    "]\n",
    "]\n",
    "\n",
    "# print(cube)\n",
    "\n",
    "element = cube[0][1][1]\n",
    "\n",
    "print(element)"
   ]
  },
  {
   "cell_type": "markdown",
   "metadata": {},
   "source": [
    "# Tuples"
   ]
  },
  {
   "cell_type": "markdown",
   "metadata": {},
   "source": [
    "Tuples in Python are a fundamental data structure that serve as an ordered collection of elements. They are characterized by several key features:\n",
    "\n",
    "1. **Immutable**: Once a tuple is created, its elements cannot be changed, added, or removed. This immutability makes tuples a safe choice for representing fixed collections of items, such as days of the week or directions on a compass.\n",
    "    \n",
    "2. **Ordered**: The elements in a tuple have a defined order, meaning that the items are indexed, starting from 0. You can access items in a tuple by referring to their index.\n",
    "    \n",
    "3. **Allow Duplicates**: Tuples can contain multiple occurrences of the same value, allowing for the storage of duplicate elements.\n",
    "    \n",
    "4. **Heterogeneous**: Tuples can contain elements of different data types, including int, float, string, and even other tuples, lists, or dictionaries. This flexibility makes them versatile for various applications.\n",
    "    \n",
    "5. **Syntax**: Tuples are defined by enclosing the elements in parentheses ( ), with items separated by commas. For example, my_tuple = (1, \"Hello\", 3.14) creates a tuple containing an integer, a string, and a float.\n",
    "    \n",
    "6. **Use Cases**: Due to their immutability, tuples are often used for data that should not change over time, such as configuration data. They are also used when an immutable sequence of items is required, like keys in a dictionary.\n",
    "    \n",
    "7. **Functions and Methods**: Python provides several built-in functions for tuples, such as len() for getting the length of a tuple, max() and min() for finding the largest and smallest items, and tuple() for creating a tuple from an iterable. However, because tuples are immutable, they have fewer methods compared to lists, such as no append() or remove() methods.\n"
   ]
  },
  {
   "cell_type": "code",
   "execution_count": 114,
   "metadata": {},
   "outputs": [
    {
     "name": "stdout",
     "output_type": "stream",
     "text": [
      "1\n"
     ]
    }
   ],
   "source": [
    "myTuple = (1, \"Bob\", 3.14)\n",
    "print(myTuple[0])"
   ]
  },
  {
   "cell_type": "code",
   "execution_count": 115,
   "metadata": {},
   "outputs": [
    {
     "ename": "TypeError",
     "evalue": "'tuple' object does not support item assignment",
     "output_type": "error",
     "traceback": [
      "\u001b[1;31m---------------------------------------------------------------------------\u001b[0m",
      "\u001b[1;31mTypeError\u001b[0m                                 Traceback (most recent call last)",
      "Cell \u001b[1;32mIn[115], line 6\u001b[0m\n\u001b[0;32m      3\u001b[0m myTuple \u001b[38;5;241m=\u001b[39m (\u001b[38;5;241m1\u001b[39m, \u001b[38;5;124m\"\u001b[39m\u001b[38;5;124mBob\u001b[39m\u001b[38;5;124m\"\u001b[39m, \u001b[38;5;241m3.14\u001b[39m)\n\u001b[0;32m      5\u001b[0m \u001b[38;5;66;03m# Try changing the values in a Tuple\u001b[39;00m\n\u001b[1;32m----> 6\u001b[0m myTuple[\u001b[38;5;241m1\u001b[39m] \u001b[38;5;241m=\u001b[39m \u001b[38;5;124m\"\u001b[39m\u001b[38;5;124mFred\u001b[39m\u001b[38;5;124m\"\u001b[39m\n\u001b[0;32m      8\u001b[0m \u001b[38;5;28mprint\u001b[39m(myTuple)\n",
      "\u001b[1;31mTypeError\u001b[0m: 'tuple' object does not support item assignment"
     ]
    }
   ],
   "source": [
    "# Demonstrate Tuple immutability\n",
    "\n",
    "myTuple = (1, \"Bob\", 3.14)\n",
    "\n",
    "# Try changing the values in a Tuple\n",
    "myTuple[1] = \"Fred\"\n",
    "\n",
    "print(myTuple)"
   ]
  },
  {
   "cell_type": "code",
   "execution_count": null,
   "metadata": {},
   "outputs": [
    {
     "name": "stdout",
     "output_type": "stream",
     "text": [
      "(1, 'Fred', 3.14)\n"
     ]
    }
   ],
   "source": [
    "# Workaround to change Tuple data\n",
    "myTuple = (1, \"Bob\", 3.14)\n",
    "\n",
    "myList = list(myTuple)\n",
    "myList[1] = \"Fred\"\n",
    "myTuple = tuple(myList)\n",
    "\n",
    "print(myTuple)\n"
   ]
  },
  {
   "cell_type": "markdown",
   "metadata": {},
   "source": [
    "# Sets"
   ]
  },
  {
   "cell_type": "markdown",
   "metadata": {},
   "source": [
    "Sets in Python are a collection data type that is mutable, unordered, and consists of unique elements. Here's a detailed breakdown of their characteristics and usage:\n",
    "\n",
    "1. **Unordered**: Sets do not record element position or order of insertion. As a result, sets do not support indexing, slicing, or other sequence-like behavior.\n",
    "    \n",
    "2. **Unique Elements**: Each element in a set is distinct. If multiple identical elements are added to a set, they will be filtered out, ensuring that each element is represented once. This uniqueness property makes sets highly useful for eliminating duplicate values from a collection and for performing various set operations like unions, intersections, differences, and symmetric differences.\n",
    "    \n",
    "3. **Mutable**: You can add and remove elements from a set after its creation. Python provides a rich set of methods to modify sets, including add(), remove(), discard(), pop(), and clear().\n",
    "    \n",
    "4. **Syntax**: Sets are defined by enclosing elements in curly braces {}, or by using the set() constructor to create a set from any iterable. For example, {1, 2, 3} or set([1, 2, 3]). An empty set must be created with set(), as {} creates an empty dictionary.\n",
    "    \n",
    "5. **Set Operations**: Python sets support mathematical set operations like union (|), intersection (&), difference (), and symmetric difference (^). These operations can be used to compare sets and perform operations like finding items present in both sets (intersection) or items unique to each set (symmetric difference).\n",
    "    \n",
    "6. **Hashable Elements**: Set elements must be immutable; that is, they must be hashable. Numbers, strings, and tuples are examples of hashable objects that can be set elements. Lists and dictionaries, being mutable, cannot be included in a set.\n",
    "    \n",
    "7. **Use Cases**: Sets are particularly useful when you need to maintain a collection of unique items, such as for membership testing, removing duplicates from a sequence, and performing mathematical set operations like unions and intersections.\n"
   ]
  },
  {
   "cell_type": "code",
   "execution_count": null,
   "metadata": {},
   "outputs": [
    {
     "name": "stdout",
     "output_type": "stream",
     "text": [
      "{1, 2, 3, 4}\n"
     ]
    }
   ],
   "source": [
    "mySet = {1,2,3,4}\n",
    "print(mySet)"
   ]
  },
  {
   "cell_type": "code",
   "execution_count": null,
   "metadata": {},
   "outputs": [
    {
     "name": "stdout",
     "output_type": "stream",
     "text": [
      "{1, 2, 3, 4, 5}\n"
     ]
    }
   ],
   "source": [
    "# Adding elements to a Set\n",
    "mySet = {1,2,3,4}\n",
    "\n",
    "mySet.add(5)\n",
    "\n",
    "print(mySet)\n"
   ]
  },
  {
   "cell_type": "code",
   "execution_count": null,
   "metadata": {},
   "outputs": [
    {
     "name": "stdout",
     "output_type": "stream",
     "text": [
      "{1, 2, 4, 5, 6}\n"
     ]
    }
   ],
   "source": [
    "mySet = {1,2,3,4,5,6}\n",
    "\n",
    "mySet.remove(3)\n",
    "\n",
    "print(mySet)"
   ]
  },
  {
   "cell_type": "code",
   "execution_count": null,
   "metadata": {},
   "outputs": [
    {
     "name": "stdout",
     "output_type": "stream",
     "text": [
      "{1, 2, 3, 4, 5, 6}\n"
     ]
    }
   ],
   "source": [
    "# Example of Joining two sets.\n",
    "\n",
    "set1 = {1,2,3}\n",
    "set2 = {4,5,6}\n",
    "\n",
    "union = set1.union(set2)\n",
    "\n",
    "print(union)"
   ]
  },
  {
   "cell_type": "code",
   "execution_count": null,
   "metadata": {},
   "outputs": [
    {
     "name": "stdout",
     "output_type": "stream",
     "text": [
      "{1, 2, 3, 4, 5, 6}\n"
     ]
    }
   ],
   "source": [
    "# Unique values example for Sets\n",
    "set1 = {1,2,3}\n",
    "set2 = {1,2,3,4,5,6}\n",
    "\n",
    "union = set1.union(set2)\n",
    "\n",
    "print(union)"
   ]
  },
  {
   "cell_type": "code",
   "execution_count": null,
   "metadata": {},
   "outputs": [
    {
     "name": "stdout",
     "output_type": "stream",
     "text": [
      "{1, 2, 3}\n"
     ]
    }
   ],
   "source": [
    "# Intersection examples - Join two sets and keep only the values that occur in both sets.\n",
    "set1 = {1,2,3}\n",
    "set2 = {1,2,3,4,5,6}\n",
    "\n",
    "union = set1.intersection(set2)\n",
    "\n",
    "print(union)\n",
    "\n"
   ]
  },
  {
   "cell_type": "code",
   "execution_count": null,
   "metadata": {},
   "outputs": [
    {
     "name": "stdout",
     "output_type": "stream",
     "text": [
      "{8, 9, 7}\n"
     ]
    }
   ],
   "source": [
    "# Difference - Join the two sets and keep the values from the first set NOT IN the second.\n",
    "\n",
    "set1 = {1,2,3, 7, 8, 9}\n",
    "set2 = {1,2,3,4,5,6}\n",
    "\n",
    "union = set1.difference(set2)\n",
    "\n",
    "print(union)"
   ]
  },
  {
   "cell_type": "code",
   "execution_count": null,
   "metadata": {},
   "outputs": [
    {
     "name": "stdout",
     "output_type": "stream",
     "text": [
      "{4, 5, 6}\n"
     ]
    }
   ],
   "source": [
    "set1 = {1,2,3}\n",
    "set2 = {1,2,3,4,5,6}\n",
    "\n",
    "union = set1.symmetric_difference(set2)\n",
    "\n",
    "print(union)"
   ]
  },
  {
   "cell_type": "code",
   "execution_count": null,
   "metadata": {},
   "outputs": [
    {
     "name": "stdout",
     "output_type": "stream",
     "text": [
      "Found it!\n"
     ]
    }
   ],
   "source": [
    "# Searching through a Set\n",
    "set1 = {1,2,3}\n",
    "set2 = {1,2,3,4,5,6}\n",
    "\n",
    "if 4 in set2:\n",
    "    print(\"Found it!\")\n",
    "else:\n",
    "    print(\"Did not find it!\")\n"
   ]
  },
  {
   "cell_type": "markdown",
   "metadata": {},
   "source": [
    "# Dictionaries"
   ]
  },
  {
   "cell_type": "markdown",
   "metadata": {},
   "source": [
    "Dictionaries in Python are mutable, unordered collections (since Python 3.7, they are considered ordered, as they preserve the insertion order of elements) that store mappings of unique keys to values. Here's a more detailed breakdown:\n",
    "\n",
    "1. Key-Value Pair: Each item in a dictionary is stored as a key-value pair. A key acts as a unique identifier for accessing its associated value.\n",
    "    \n",
    "2. Syntax: A dictionary is defined within curly braces {} with keys and values separated by colons :. Items are separated by commas. For example: my_dict = {'key1': 'value1', 'key2': 'value2'}.\n",
    "    \n",
    "3. Mutable: Dictionaries can be modified after they have been created. You can add, remove, or change the value of items within the dictionary.\n",
    "    \n",
    "4. Dynamic: They can grow or shrink as needed, allowing for a very flexible way to store data.\n",
    "    \n",
    "5. Unordered (with a caveat): Until Python 3.7, dictionaries were unordered, meaning the order in which items were inserted could not be relied upon when accessing elements. From Python 3.7 onwards, dictionaries remember the order of items inserted, effectively making them ordered collections by insertion order.\n",
    "    \n",
    "6. Keys Must Be Unique: Each key must be unique within a dictionary. Adding an item with a key that already exists will overwrite the existing value associated with that key.\n",
    "    \n",
    "7. Keys Must Be Immutable: Only objects that are immutable can be used as keys. This includes types like strings, numbers, and tuples (tuples are immutable if all their elements are immutable as well).\n",
    "    \n",
    "8. Versatile Value Types: Dictionary values can be of any type: numbers, strings, lists, tuples, dictionaries, or even custom objects, and can differ within the same dictionary.\n",
    "    \n",
    "9. Accessing Elements: Values are accessed using square brackets [] with the key, e.g., my_dict['key1']. Trying to access a key that doesn't exist will result in a KeyError.\n",
    "    \n",
    "10. Methods and Functions: Dictionaries come with a variety of methods and functions for common tasks: adding or removing items, merging dictionaries, iterating through keys, values, or key-value pairs, checking for the existence of keys, and more.\n"
   ]
  },
  {
   "cell_type": "code",
   "execution_count": null,
   "metadata": {},
   "outputs": [
    {
     "name": "stdout",
     "output_type": "stream",
     "text": [
      "{'brand': 'Jeep', 'model': 'Rubicon', 'year': '1976'}\n"
     ]
    }
   ],
   "source": [
    "jeep = {\n",
    "    \"brand\":\"Jeep\",\n",
    "    \"model\":\"Rubicon\",\n",
    "    \"year\":\"2014\",\n",
    "    \"year\":\"1976\"\n",
    "}\n",
    "\n",
    "print(jeep)"
   ]
  },
  {
   "cell_type": "code",
   "execution_count": null,
   "metadata": {},
   "outputs": [
    {
     "name": "stdout",
     "output_type": "stream",
     "text": [
      "Screen resolution (1920, 1080)\n"
     ]
    }
   ],
   "source": [
    "# Common examples would be a config file\n",
    "\n",
    "config = {\n",
    "    'screen_resolution':(1920,1080),\n",
    "    'color_scheme': 'dark',\n",
    "    'file_paths':{\n",
    "        'data_file': '/path/to/dataFile.txt',\n",
    "        'log_file': '/path/to/logFile.txt'\n",
    "    }\n",
    "\n",
    "}\n",
    "\n",
    "\n",
    "# Accessing elements within a dictionary\n",
    "\n",
    "print('Screen resolution', config['screen_resolution'])"
   ]
  },
  {
   "cell_type": "code",
   "execution_count": null,
   "metadata": {},
   "outputs": [
    {
     "name": "stdout",
     "output_type": "stream",
     "text": [
      "{'screen_resolution': (1920, 1080), 'color_scheme': 'light', 'file_paths': {'data_file': '/path/to/dataFile.txt', 'log_file': '/path/to/logFile.txt'}, 'font_size': 16}\n"
     ]
    }
   ],
   "source": [
    "# Adding values to a Dictionary\n",
    "\n",
    "config = {\n",
    "    'screen_resolution':(1920,1080),\n",
    "    'color_scheme': 'dark',\n",
    "    'file_paths':{\n",
    "        'data_file': '/path/to/dataFile.txt',\n",
    "        'log_file': '/path/to/logFile.txt'\n",
    "    }\n",
    "\n",
    "}\n",
    "\n",
    "config['color_scheme'] = 'light'\n",
    "config['font_size'] = 16\n",
    "\n",
    "print(config)"
   ]
  },
  {
   "cell_type": "code",
   "execution_count": null,
   "metadata": {},
   "outputs": [
    {
     "name": "stdout",
     "output_type": "stream",
     "text": [
      "{'screen_resolution': (1920, 1080), 'color_scheme': 'dark', 'file_paths': {'log_file': '/path/to/logFile.txt'}}\n"
     ]
    }
   ],
   "source": [
    "# Remove items from a Dictionary\n",
    "\n",
    "config = {\n",
    "    'screen_resolution':(1920,1080),\n",
    "    'color_scheme': 'dark',\n",
    "    'file_paths':{\n",
    "        'data_file': '/path/to/dataFile.txt',\n",
    "        'log_file': '/path/to/logFile.txt'\n",
    "    }\n",
    "\n",
    "}\n",
    "\n",
    "del config['file_paths']['data_file']\n",
    "\n",
    "print(config)"
   ]
  },
  {
   "cell_type": "code",
   "execution_count": null,
   "metadata": {},
   "outputs": [
    {
     "name": "stdout",
     "output_type": "stream",
     "text": [
      "screen_resolution\n",
      "color_scheme\n",
      "file_paths\n",
      "font_size\n",
      "----------------------\n",
      "(1920, 1080)\n",
      "light\n",
      "{'data_file': '/path/to/dataFile.txt', 'log_file': '/path/to/logFile.txt'}\n",
      "16\n",
      "----------------------\n",
      "screen_resolution:(1920, 1080)\n",
      "color_scheme:light\n",
      "file_paths:{'data_file': '/path/to/dataFile.txt', 'log_file': '/path/to/logFile.txt'}\n",
      "font_size:16\n"
     ]
    }
   ],
   "source": [
    "# Searching for elements in a Dictionary\n",
    "\n",
    "config = {\n",
    "    'screen_resolution':(1920,1080),\n",
    "    'color_scheme': 'dark',\n",
    "    'file_paths':{\n",
    "        'data_file': '/path/to/dataFile.txt',\n",
    "        'log_file': '/path/to/logFile.txt'\n",
    "    }\n",
    "\n",
    "}\n",
    "\n",
    "config['color_scheme'] = 'light'\n",
    "config['font_size'] = 16\n",
    "\n",
    "# Loop through keys in a dictionary\n",
    "for key in config:\n",
    "    print(key)\n",
    "\n",
    "print(\"----------------------\")\n",
    "\n",
    "# Loop for the values\n",
    "for value in config.values():\n",
    "    print(value)\n",
    "\n",
    "print(\"----------------------\")\n",
    "\n",
    "# Loop through both\n",
    "for key, value in config.items():\n",
    "    print(f\"{key}:{value}\")\n"
   ]
  },
  {
   "cell_type": "code",
   "execution_count": 118,
   "metadata": {},
   "outputs": [
    {
     "name": "stdout",
     "output_type": "stream",
     "text": [
      "Found it!\n",
      "Found key\n",
      "True\n"
     ]
    }
   ],
   "source": [
    "# Searching for specific items in the Dictionary\n",
    "config = {\n",
    "    'screen_resolution':(1920,1080),\n",
    "    'color_scheme': 'dark',\n",
    "    'file_paths':{\n",
    "        'data_file': '/path/to/dataFile.txt',\n",
    "        'log_file': '/path/to/logFile.txt'\n",
    "    }\n",
    "\n",
    "}\n",
    "\n",
    "# config['color_scheme'] = 'light'\n",
    "config['font_size'] = 16\n",
    "\n",
    "# Search for a value\n",
    "valuelookingFor = 'dark'\n",
    "keylookingFor = 'color_scheme'\n",
    "\n",
    "if valuelookingFor in config.values():\n",
    "    print(\"Found it!\")\n",
    "else:\n",
    "    print(\"Didn't find it\")\n",
    "\n",
    "# Search for the key\n",
    "if keylookingFor in config:\n",
    "    print(\"Found key\")\n",
    "else: \n",
    "    print(\"No key found\")\n",
    "\n",
    "# Use comprehension \n",
    "print('font_size' in config)"
   ]
  },
  {
   "cell_type": "markdown",
   "metadata": {},
   "source": [
    "# Zip Function"
   ]
  },
  {
   "cell_type": "markdown",
   "metadata": {},
   "source": [
    "The zip() function in Python is a built-in function that aggregates elements from two or more iterables (like lists, tuples, or dictionaries) and returns an iterator of tuples, where each tuple contains the elements from the iterables that are in the same position. This function is commonly used for parallel iteration over multiple lists or iterables.\n",
    "\n",
    "Basics of how it works:\n",
    "- Syntax: zip(*iterables) \n",
    "        ○ iterables: Any number of iterables (e.g., lists, tuples, etc.). The asterisk () indicates that the function can take any number of arguments.\n",
    "        \n",
    "- Return Value: An iterator of tuples, where the i-th tuple contains the i-th element from each of the argument sequences or iterables. The iterator stops when the shortest input iterable is exhausted.\n",
    "    \n",
    "- Usage: The zip() function is used when you need to loop over multiple iterables simultaneously. For example, if you have two lists—one containing names and the other containing ages—and you want to pair each name with its corresponding age, zip() makes this task straightforward.\n"
   ]
  },
  {
   "cell_type": "code",
   "execution_count": 122,
   "metadata": {},
   "outputs": [
    {
     "name": "stdout",
     "output_type": "stream",
     "text": [
      "{'name': 'John Doe', 'age': 'New York', 'city': 30}\n"
     ]
    }
   ],
   "source": [
    "keys = ['name', 'age', 'city']\n",
    "values = ['John Doe', 'New York', 30]\n",
    "\n",
    "# Join lists into a Dictionary using the ZIP function\n",
    "person = dict(zip(keys, values)) \n",
    "\n",
    "\n",
    "print(person)"
   ]
  },
  {
   "cell_type": "markdown",
   "metadata": {},
   "source": [
    "# List comprehension"
   ]
  },
  {
   "cell_type": "markdown",
   "metadata": {},
   "source": [
    "Python comprehensions provide a concise way to create lists, dictionaries, sets, and generators. They offer a more syntactically compact and often more readable way to create these data structures compared to traditional loops and function calls. It allows for writing compact, readable code that combines loops and conditional logic in a single line. \n"
   ]
  },
  {
   "cell_type": "code",
   "execution_count": null,
   "metadata": {},
   "outputs": [],
   "source": []
  }
 ],
 "metadata": {
  "kernelspec": {
   "display_name": "base",
   "language": "python",
   "name": "python3"
  },
  "language_info": {
   "codemirror_mode": {
    "name": "ipython",
    "version": 3
   },
   "file_extension": ".py",
   "mimetype": "text/x-python",
   "name": "python",
   "nbconvert_exporter": "python",
   "pygments_lexer": "ipython3",
   "version": "3.12.3"
  }
 },
 "nbformat": 4,
 "nbformat_minor": 2
}
