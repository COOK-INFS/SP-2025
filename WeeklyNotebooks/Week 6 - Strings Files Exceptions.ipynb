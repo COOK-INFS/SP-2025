{
 "cells": [
  {
   "cell_type": "markdown",
   "metadata": {},
   "source": [
    "# Strings examples"
   ]
  },
  {
   "cell_type": "code",
   "execution_count": 1,
   "metadata": {},
   "outputs": [
    {
     "name": "stdout",
     "output_type": "stream",
     "text": [
      "Hello World\n"
     ]
    }
   ],
   "source": [
    "myString = \"Hello World\"\n",
    "\n",
    "print(myString)"
   ]
  },
  {
   "cell_type": "code",
   "execution_count": 5,
   "metadata": {},
   "outputs": [
    {
     "name": "stdout",
     "output_type": "stream",
     "text": [
      "l\n",
      "Hello W\n"
     ]
    }
   ],
   "source": [
    "myString = \"Hello World\"\n",
    "\n",
    "# Printing a specific index location of the String\n",
    "print(myString[3])\n",
    "\n",
    "# Grab a range within the String\n",
    "print(myString[0:7])"
   ]
  },
  {
   "cell_type": "markdown",
   "metadata": {},
   "source": [
    "# Strings are Immutable"
   ]
  },
  {
   "cell_type": "code",
   "execution_count": 7,
   "metadata": {},
   "outputs": [
    {
     "name": "stdout",
     "output_type": "stream",
     "text": [
      "Memory location of 'string1' before any changes: 1786082030576\n",
      "Memory location of 'string2' before any changes: 1786082027600\n",
      "Memory location of 'string1' after any changes: 1786082030576\n",
      "Memory location of 'string2' after any changes: 1786082030576\n"
     ]
    }
   ],
   "source": [
    "string1 = \"Bob\"\n",
    "string2 = \"Cook\"\n",
    "\n",
    "# Memory location of the variables before any changes\n",
    "memoryLocation_before_String1 = id(string1)\n",
    "memoryLocation_before_String2 = id(string2)\n",
    "\n",
    "# Change the value of String 2\n",
    "string2 = \"Bob\"\n",
    "\n",
    "# Memory location of the variables AFTER the change \n",
    "memoryLocation_after_String1 = id(string1)\n",
    "memoryLocation_after_String2 = id(string2)\n",
    "\n",
    "\n",
    "# Output the memory locations\n",
    "print(f\"Memory location of 'string1' before any changes: {memoryLocation_before_String1}\")\n",
    "print(f\"Memory location of 'string2' before any changes: {memoryLocation_before_String2}\")\n",
    "print(f\"Memory location of 'string1' after any changes: {memoryLocation_after_String1}\")\n",
    "print(f\"Memory location of 'string2' after any changes: {memoryLocation_after_String2}\")"
   ]
  },
  {
   "cell_type": "markdown",
   "metadata": {},
   "source": [
    "# Formatting Strings\n"
   ]
  },
  {
   "cell_type": "code",
   "execution_count": null,
   "metadata": {},
   "outputs": [
    {
     "name": "stdout",
     "output_type": "stream",
     "text": [
      "Hello Alice. You are 30 years old.\n"
     ]
    }
   ],
   "source": [
    "# Concatenating strings\n",
    "\n",
    "name = \"Alice\"\n",
    "age = 30\n",
    "greeting = \"Hello \" + name + \". You are \" + str(age) + \" years old.\"\n",
    "\n",
    "print(greeting)"
   ]
  },
  {
   "cell_type": "code",
   "execution_count": 11,
   "metadata": {},
   "outputs": [
    {
     "name": "stdout",
     "output_type": "stream",
     "text": [
      "Hello, Alice. You are 30 years old.\n"
     ]
    }
   ],
   "source": [
    "#Format using the .format method\n",
    "\n",
    "name = \"Alice\"\n",
    "age = 30\n",
    "\n",
    "greeting = \"Hello, {}. You are {} years old.\".format(name, age)\n",
    "\n",
    "print(greeting)"
   ]
  },
  {
   "cell_type": "code",
   "execution_count": null,
   "metadata": {},
   "outputs": [
    {
     "name": "stdout",
     "output_type": "stream",
     "text": [
      "Hello, Alice. You are 30 years old.\n"
     ]
    }
   ],
   "source": [
    "# f-string formatting example\n",
    "\n",
    "name = \"Alice\"\n",
    "age = 30\n",
    "\n",
    "greeting = f\"Hello, {name}. You are {age} years old.\"\n",
    "\n",
    "print(greeting)"
   ]
  },
  {
   "cell_type": "markdown",
   "metadata": {},
   "source": [
    "# Escaping characters"
   ]
  },
  {
   "cell_type": "code",
   "execution_count": 13,
   "metadata": {},
   "outputs": [
    {
     "ename": "SyntaxError",
     "evalue": "invalid syntax (2569708034.py, line 1)",
     "output_type": "error",
     "traceback": [
      "\u001b[1;36m  Cell \u001b[1;32mIn[13], line 1\u001b[1;36m\u001b[0m\n\u001b[1;33m    escapeEx = \"I am a \"Goof\", no doubt about it!\"\u001b[0m\n\u001b[1;37m                        ^\u001b[0m\n\u001b[1;31mSyntaxError\u001b[0m\u001b[1;31m:\u001b[0m invalid syntax\n"
     ]
    }
   ],
   "source": [
    "escapeEx = \"I am a \"Goof\", no doubt about it!\"\n",
    "\n",
    "print(escapeEx)"
   ]
  },
  {
   "cell_type": "code",
   "execution_count": 17,
   "metadata": {},
   "outputs": [
    {
     "name": "stdout",
     "output_type": "stream",
     "text": [
      "I am a \"Goof\", no doubt about it!\n"
     ]
    }
   ],
   "source": [
    "escapeEx = \"I am a \\\"Goof\\\", no doubt about it!\"\n",
    "\n",
    "print(escapeEx)"
   ]
  },
  {
   "cell_type": "markdown",
   "metadata": {},
   "source": [
    "# Newline versus Carriage Return"
   ]
  },
  {
   "cell_type": "code",
   "execution_count": 18,
   "metadata": {},
   "outputs": [
    {
     "name": "stdout",
     "output_type": "stream",
     "text": [
      "This is line 1. \n",
      "This is line 2.\n"
     ]
    }
   ],
   "source": [
    "newLine = \"This is line 1. \\nThis is line 2.\"\n",
    "\n",
    "print(newLine)"
   ]
  },
  {
   "cell_type": "code",
   "execution_count": 19,
   "metadata": {},
   "outputs": [
    {
     "name": "stdout",
     "output_type": "stream",
     "text": [
      "This is line 2. \n"
     ]
    }
   ],
   "source": [
    "carriageReturn = \"This is line 1. \\rThis is line 2.\"\n",
    "\n",
    "print(carriageReturn)"
   ]
  },
  {
   "cell_type": "markdown",
   "metadata": {},
   "source": [
    "# Searching in a String"
   ]
  },
  {
   "cell_type": "code",
   "execution_count": 21,
   "metadata": {},
   "outputs": [
    {
     "name": "stdout",
     "output_type": "stream",
     "text": [
      "7\n"
     ]
    }
   ],
   "source": [
    "myString = \"Hello, this is my first time, be gentle. this is cool\"\n",
    "\n",
    "index = myString.find(\"this\")\n",
    "\n",
    "print(index)"
   ]
  },
  {
   "cell_type": "code",
   "execution_count": 22,
   "metadata": {},
   "outputs": [
    {
     "name": "stdout",
     "output_type": "stream",
     "text": [
      "True\n"
     ]
    }
   ],
   "source": [
    "# Search using the \"find\" method\n",
    "\n",
    "myString = \"Hello, this is my first time, be gentle. this is cool\"\n",
    "\n",
    "results = \"this\" in myString\n",
    "\n",
    "print(results)"
   ]
  },
  {
   "cell_type": "markdown",
   "metadata": {},
   "source": [
    "# Files"
   ]
  },
  {
   "cell_type": "markdown",
   "metadata": {},
   "source": [
    "## Writing files\n",
    "Example of writing data to a file."
   ]
  },
  {
   "cell_type": "code",
   "execution_count": null,
   "metadata": {},
   "outputs": [],
   "source": [
    "f = open(\"readFileExample.txt\", \"w\")\n",
    "\n",
    "f.write(\"My first line of text\")\n",
    "\n",
    "f.close()\n",
    "\n",
    "# Writing will overwrite anything in the file\n",
    "# f = open(\"readFileExample.txt\", \"w\")\n",
    "\n",
    "# f.write(\"My second line of text\")\n",
    "\n",
    "# f.close()"
   ]
  },
  {
   "cell_type": "markdown",
   "metadata": {},
   "source": [
    "## Reading files"
   ]
  },
  {
   "cell_type": "code",
   "execution_count": 26,
   "metadata": {},
   "outputs": [
    {
     "name": "stdout",
     "output_type": "stream",
     "text": [
      "My first line of text\n",
      "\n",
      "This is another line\n",
      "\n",
      "And another\n",
      "\n",
      "And another\n"
     ]
    }
   ],
   "source": [
    "f = open(\"readFileExample.txt\", \"r\")\n",
    "\n",
    "print(f.read())"
   ]
  },
  {
   "cell_type": "markdown",
   "metadata": {},
   "source": [
    "### With method of writing/reading"
   ]
  },
  {
   "cell_type": "code",
   "execution_count": 27,
   "metadata": {},
   "outputs": [
    {
     "name": "stdout",
     "output_type": "stream",
     "text": [
      "Here I go again, on my own. going down the onely road\n"
     ]
    }
   ],
   "source": [
    "text = \"Here I go again, on my own. going down the onely road\"\n",
    "\n",
    "with open('file2.txt', \"w\") as f:\n",
    "    f.write(text)\n",
    "with open('file2.txt', \"r\") as f:\n",
    "    print(f.read())"
   ]
  },
  {
   "cell_type": "markdown",
   "metadata": {},
   "source": [
    "## Appending files"
   ]
  },
  {
   "cell_type": "code",
   "execution_count": 34,
   "metadata": {},
   "outputs": [],
   "source": [
    "f = open(\"appendFile.txt\", \"w\")\n",
    "f.write(\"This is line 1.\")\n",
    "f.close()\n",
    "\n",
    "f = open(\"appendFile.txt\", \"a\")\n",
    "f.write(\"\\nThis is my second line of text.\")\n",
    "f.close()"
   ]
  },
  {
   "cell_type": "markdown",
   "metadata": {},
   "source": [
    "# Error handling"
   ]
  },
  {
   "cell_type": "code",
   "execution_count": 35,
   "metadata": {},
   "outputs": [
    {
     "ename": "FileNotFoundError",
     "evalue": "[Errno 2] No such file or directory: 'errorFile.txt'",
     "output_type": "error",
     "traceback": [
      "\u001b[1;31m---------------------------------------------------------------------------\u001b[0m",
      "\u001b[1;31mFileNotFoundError\u001b[0m                         Traceback (most recent call last)",
      "Cell \u001b[1;32mIn[35], line 1\u001b[0m\n\u001b[1;32m----> 1\u001b[0m f \u001b[38;5;241m=\u001b[39m \u001b[38;5;28mopen\u001b[39m(\u001b[38;5;124m\"\u001b[39m\u001b[38;5;124merrorFile.txt\u001b[39m\u001b[38;5;124m\"\u001b[39m, \u001b[38;5;124m\"\u001b[39m\u001b[38;5;124mr\u001b[39m\u001b[38;5;124m\"\u001b[39m)\n",
      "File \u001b[1;32mc:\\Users\\rcook2\\AppData\\Local\\anaconda3\\Lib\\site-packages\\IPython\\core\\interactiveshell.py:324\u001b[0m, in \u001b[0;36m_modified_open\u001b[1;34m(file, *args, **kwargs)\u001b[0m\n\u001b[0;32m    317\u001b[0m \u001b[38;5;28;01mif\u001b[39;00m file \u001b[38;5;129;01min\u001b[39;00m {\u001b[38;5;241m0\u001b[39m, \u001b[38;5;241m1\u001b[39m, \u001b[38;5;241m2\u001b[39m}:\n\u001b[0;32m    318\u001b[0m     \u001b[38;5;28;01mraise\u001b[39;00m \u001b[38;5;167;01mValueError\u001b[39;00m(\n\u001b[0;32m    319\u001b[0m         \u001b[38;5;124mf\u001b[39m\u001b[38;5;124m\"\u001b[39m\u001b[38;5;124mIPython won\u001b[39m\u001b[38;5;124m'\u001b[39m\u001b[38;5;124mt let you open fd=\u001b[39m\u001b[38;5;132;01m{\u001b[39;00mfile\u001b[38;5;132;01m}\u001b[39;00m\u001b[38;5;124m by default \u001b[39m\u001b[38;5;124m\"\u001b[39m\n\u001b[0;32m    320\u001b[0m         \u001b[38;5;124m\"\u001b[39m\u001b[38;5;124mas it is likely to crash IPython. If you know what you are doing, \u001b[39m\u001b[38;5;124m\"\u001b[39m\n\u001b[0;32m    321\u001b[0m         \u001b[38;5;124m\"\u001b[39m\u001b[38;5;124myou can use builtins\u001b[39m\u001b[38;5;124m'\u001b[39m\u001b[38;5;124m open.\u001b[39m\u001b[38;5;124m\"\u001b[39m\n\u001b[0;32m    322\u001b[0m     )\n\u001b[1;32m--> 324\u001b[0m \u001b[38;5;28;01mreturn\u001b[39;00m io_open(file, \u001b[38;5;241m*\u001b[39margs, \u001b[38;5;241m*\u001b[39m\u001b[38;5;241m*\u001b[39mkwargs)\n",
      "\u001b[1;31mFileNotFoundError\u001b[0m: [Errno 2] No such file or directory: 'errorFile.txt'"
     ]
    }
   ],
   "source": [
    "f = open(\"errorFile.txt\", \"r\")\n"
   ]
  },
  {
   "cell_type": "code",
   "execution_count": 40,
   "metadata": {},
   "outputs": [
    {
     "name": "stdout",
     "output_type": "stream",
     "text": [
      "That file was not found, please check your file name and try again.\n"
     ]
    }
   ],
   "source": [
    "# Example of handling errors more elegantly\n",
    "try:\n",
    "    #with open(\"errorFile.txt\", 'a') as f:\n",
    "    #   f.write(\"Hello again, my friend, Hello!\")\n",
    "    with open(\"errorFile.txt\", \"r\") as f:\n",
    "        print(f.read())\n",
    "except: FileNotFoundError: print(\"That file was not found, please check your file name and try again.\")"
   ]
  },
  {
   "cell_type": "markdown",
   "metadata": {},
   "source": [
    "# Config file example\n"
   ]
  },
  {
   "cell_type": "code",
   "execution_count": 42,
   "metadata": {},
   "outputs": [
    {
     "name": "stdout",
     "output_type": "stream",
     "text": [
      "The them setting is: dark\n"
     ]
    }
   ],
   "source": [
    "# What are we searching for?\n",
    "searchItem = 'theme'\n",
    "\n",
    "\n",
    "# Open our config file in read mode\n",
    "with open('config.ini', \"r\") as f:\n",
    "    lines = f.readlines()\n",
    "\n",
    "# Search for the theme setting\n",
    "for line in lines:\n",
    "    if searchItem in line:\n",
    "        _, searchItem = line.split(\"=\", 1) # Ignoring the values left of the \"=\" and assign to \"_\"\n",
    "        searchItem = searchItem.strip()\n",
    "        break\n",
    "\n",
    "\n",
    "# Display the results or lack thereof\n",
    "if searchItem:\n",
    "    print(f\"The them setting is: {searchItem}\")\n",
    "else:\n",
    "    print(\"The theme setting was not found.\")"
   ]
  },
  {
   "cell_type": "markdown",
   "metadata": {},
   "source": [
    "### Configparser"
   ]
  },
  {
   "cell_type": "code",
   "execution_count": 43,
   "metadata": {},
   "outputs": [
    {
     "name": "stdout",
     "output_type": "stream",
     "text": [
      "The setting is: dark\n"
     ]
    }
   ],
   "source": [
    "from configparser import ConfigParser\n",
    "\n",
    "section = 'Settings'\n",
    "configItem = 'theme'\n",
    "\n",
    "# Intitialize the parser\n",
    "config = ConfigParser()\n",
    "\n",
    "# Read our config\n",
    "config.read(\"config.ini\")\n",
    "\n",
    "# Retrieve the setting\n",
    "theme = config.get(section, configItem)\n",
    "print(f\"The setting is: {theme}\")"
   ]
  },
  {
   "cell_type": "code",
   "execution_count": null,
   "metadata": {},
   "outputs": [],
   "source": []
  }
 ],
 "metadata": {
  "kernelspec": {
   "display_name": "base",
   "language": "python",
   "name": "python3"
  },
  "language_info": {
   "codemirror_mode": {
    "name": "ipython",
    "version": 3
   },
   "file_extension": ".py",
   "mimetype": "text/x-python",
   "name": "python",
   "nbconvert_exporter": "python",
   "pygments_lexer": "ipython3",
   "version": "3.12.3"
  }
 },
 "nbformat": 4,
 "nbformat_minor": 2
}
